{
 "cells": [
  {
   "cell_type": "code",
   "execution_count": 7,
   "metadata": {},
   "outputs": [
    {
     "ename": "SyntaxError",
     "evalue": "unexpected EOF while parsing (<ipython-input-7-8b538211a033>, line 15)",
     "output_type": "error",
     "traceback": [
      "\u001b[0;36m  File \u001b[0;32m\"<ipython-input-7-8b538211a033>\"\u001b[0;36m, line \u001b[0;32m15\u001b[0m\n\u001b[0;31m    \u001b[0m\n\u001b[0m    ^\u001b[0m\n\u001b[0;31mSyntaxError\u001b[0m\u001b[0;31m:\u001b[0m unexpected EOF while parsing\n"
     ]
    }
   ],
   "source": [
    "import socketserver\n",
    "import socket\n",
    "import threading\n",
    "import struct \n",
    "import sys\n",
    "\n",
    "TYPE_BOOTSTRAP = 2\n",
    "TYPE_PEER = 0\n",
    "TYPE_SUPERPEER = 1\n",
    "\n",
    "class BootstrapManager:\n",
    "    def __init__(self,ports,interface=''):\n",
    "        self.m_interface = interface\n",
    "        self.m_ports = ports\n",
    "        \n",
    "    \n",
    "    def read_superpeers_from_file(self,filename):\n",
    "        with f as open(filename,'r'):\n",
    "            for line in infile:\n",
    "                \n",
    "    def listen_on(self,ports,interface=''):\n",
    "        pass\n",
    "    def open_listen_port(self):\n",
    "        self.m_listen_socket = socket.socket(socket.AF_INET,socket.SOCK_STREAM)\n",
    "        for port in self.m_ports:\n",
    "            try:\n",
    "                self.m_listen_socket.bind(self.m_interface,port)\n",
    "                self.m_listen_socket.listen(5)\n",
    "                print(\"[DEBUG] Binding on %s:%p\"%(self.m_interface,port))\n",
    "                break\n",
    "            except (socket.error):\n",
    "                pass\n",
    "        self.accept_incoming_connections(self):\n",
    "    def accept_incoming_connections(self):\n",
    "        while True:\n",
    "            client,address = self.m_listen_socket.accept()\n",
    "            threading.Thread(target = self.check_remote_type,args=(client,address)).start()\n",
    "    def check_remote_type(self,client,address):\n",
    "        size = 16\n",
    "        while True:\n",
    "            try:\n",
    "                data = client.recv(size)\n",
    "                assert len(data) >= 1,\"[ERROR] Message is too short\"\n",
    "                node_type = struct.unpack('!c',data[0])\n",
    "                payload_len = struct.unpack('!i',data[1:5])[0]\n",
    "                if node_type == 0:\n",
    "                    write_superpeer_allocation()\n",
    "                elif data[0] == 1:\n",
    "                    if payload_len > 0:\n",
    "                        update_keep_alive(data,client)\n",
    "                    else:\n",
    "                        write_neighbour_allocation(client)\n",
    "                    \n",
    "                else:\n",
    "                    pass\n",
    "    def write_neighbour_allocation(self,client):\n",
    "        \n",
    "                "
   ]
  }
 ],
 "metadata": {
  "kernelspec": {
   "display_name": "Python 3",
   "language": "python",
   "name": "python3"
  },
  "language_info": {
   "codemirror_mode": {
    "name": "ipython",
    "version": 3
   },
   "file_extension": ".py",
   "mimetype": "text/x-python",
   "name": "python",
   "nbconvert_exporter": "python",
   "pygments_lexer": "ipython3",
   "version": "3.6.5"
  }
 },
 "nbformat": 4,
 "nbformat_minor": 2
}
