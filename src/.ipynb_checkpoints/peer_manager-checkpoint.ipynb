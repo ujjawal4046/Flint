{
 "cells": [
  {
   "cell_type": "code",
   "execution_count": null,
   "metadata": {},
   "outputs": [],
   "source": [
    "import socketserver\n",
    "import socket\n",
    "import threading\n",
    "import struct \n",
    "import sys\n",
    "\n",
    "TYPE_BOOTSTRAP = 2\n",
    "TYPE_PEER = 0\n",
    "TYPE_SUPERPEER = 1\n",
    "class PeerManager:\n",
    "    def __init__(self,bootstrap_addr,port):\n",
    "        self.m_bootstrap_socket = socket.socket(socket.AF_INET,socket.SOCK_STREAM)\n",
    "        self.m_bootstrap_socket.connect((bootstrap_addr,port))\n",
    "    def get_superpeers(self):\n",
    "        packet = struct.pack('!b',0)\n",
    "        packet = packet + struct.pack('!i',0)\n",
    "        self.m_bootstrap_socket.sendall(packet)\n",
    "        \n",
    "        recv_packet = self.m_bootstrap_socket.recv(1024)\n",
    "        remote_type = struct.unpack('!b',recv_packet[0])[0]\n",
    "        payload_len = struct.unpack('!i',recv_packet[1:5])[0]\n",
    "        \n",
    "        assert remote_type ==  TYPE_BOOTSTRAP,'[ERROR] remote type is invalid'\n",
    "        \n",
    "        "
   ]
  }
 ],
 "metadata": {
  "kernelspec": {
   "display_name": "Python 3",
   "language": "python",
   "name": "python3"
  },
  "language_info": {
   "codemirror_mode": {
    "name": "ipython",
    "version": 3
   },
   "file_extension": ".py",
   "mimetype": "text/x-python",
   "name": "python",
   "nbconvert_exporter": "python",
   "pygments_lexer": "ipython3",
   "version": "3.6.5"
  }
 },
 "nbformat": 4,
 "nbformat_minor": 2
}
